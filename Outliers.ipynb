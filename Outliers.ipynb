{
 "cells": [
  {
   "cell_type": "markdown",
   "metadata": {},
   "source": [
    "<div align='center'><font size=\"5\" color=\"#00000\"><center><h1 style=\"text-transform: uppercase; text-shadow: 1px 1px;\"> Outlier Analysis </font></div> </h1></center>\n",
    "<hr> \n",
    "> <center><img src=\"https://www.almostzara.com/wp-content/uploads/odd-one-out-group.jpg\" width=800 ></center>\n",
    "<hr> \n",
    "  \n",
    "<div align='left'><font size=\"4\" color=\"#000000\"><h1 style=\"text-transform: uppercase\"><strong>What is an Outlier? </strong> </font></div></h1>\n",
    "<div align='left'><font size=\"3\" color=\"#000000\"> Outlier is an observation that is numerically distant from the rest of the data or in a simple word it is the value which is out of the range.let’s take an example to check what happens to a data set with and data set without outliers.\n",
    "</font></div>\n",
    "\n",
    "|| | Data without outlier |  | Data with outlier | \n",
    "|--||--||--|\n",
    "|**Data**| |1,2,3,3,4,5,4 |  |1,2,3,3,4,5,**400** | \n",
    "|**Mean**| |3.142 | |**59.714** |  \n",
    "|**Median**| |3|  |3|\n",
    "|**Standard Deviation**| |1.345185| |**150.057**|\n",
    "\n",
    "<div align='left'><font size=\"3\" color=\"#000000\"> As you can see, data set with outliers has significantly different mean and standard deviation. In the first scenario, we will say that average is 3.14. But with the outlier, average soars to 59.71. This would change the estimate completely.\n",
    "</font></div>\n",
    "\n",
    "> <center><img src=\"https://pbs.twimg.com/media/EDANCjJXkAAOSjO.jpg\" width=\"600px\"></center>\n",
    "> <center>The above meme makes you better understanding of how measures of central tendencies affected by outlier. \n",
    "\n",
    "<div align='left'><font size=\"3\" color=\"#000000\"> Lets take a real world example. In a company of 50 employees, 45 people having monthly salary of Rs.6,000, 5 senior employees having monthly salary of Rs.100000 each. If you calculate the average monthly salary of employees in the company is Rs.14,500, which will give you the wrong conclusion (mejority of employees have lesser than 14.5k salary). But if you take median salary, it is Rs.6000 which is more sense than the average.For this reason median is appropriate measure than mean. Here you can see the effect of outlier.\n",
    "</font></div>    \n",
    "<hr>   \n",
    "<div class=\"alert alert-info\" ><font size=\"3\"><strong> Outlier </strong> is a commonly used terminology by analysts and data scientists as it needs close attention else it can result in wildly wrong estimations. Simply speaking, Outlier is an observation that appears far away and diverges from an overall pattern in a sample.</div>\n",
    "<hr>\n",
    "<div align='left'><font size=\"4\" color=\"#000000\"><h1 style=\"text-transform: uppercase\"><strong>Cause for outliers</strong> </font></div>\n",
    "<hr>\n",
    "<div align='left'><font size=\"3\" color=\"#000000\"> * Data Entry Errors:- Human errors such as errors caused during data collection, recording, or entry can cause outliers in data. </font></div> \n",
    "<div align='left'><font size=\"3\" color=\"#000000\"> * Data Entry Errors:- Human errors such as errors caused during data collection, recording, or entry can cause outliers in data. </font></div> \n",
    "<div align='left'><font size=\"3\" color=\"#000000\"> * Measurement Error:- It is the most common source of outliers. This is caused when the measurement instrument used turns out to be faulty. </font></div> \n",
    "<div align='left'><font size=\"3\" color=\"#000000\"> * Natural Outlier:- When an outlier is not artificial (due to error), it is a natural outlier. Most of real world data belong to this category.</font></div> \n",
    "<hr>\n",
    "<div align='left'><font size=\"4\" color=\"#000000\"><h1 style=\"text-transform: uppercase\"><strong>Outlier Detection</strong> </font></div>\n",
    "<hr>\n",
    "<div align='left'><font size=\"3\" color=\"#000000\"> Outlier can be of two types: Univariate and Multivariate. Above, we have discussed the example of univariate outlier. These outliers can be found when we look at distribution of a single variable. Multi-variate outliers are outliers in an n-dimensional space. </font></div> \n",
    "<hr>\n",
    "<div align='left'><font size=\"4\" color=\"#000000\"><h1 style=\"text-transform: uppercase\"><strong>Different outlier detection technique.</strong> </font></div>\n",
    "<hr>\n",
    "<div align='left'><font size=\"3\" color=\"#000000\"> 1. Hypothesis Testing </font></div> \n",
    "<div align='left'><font size=\"3\" color=\"#000000\"> 2. Z-score method </font></div> \n",
    "<div align='left'><font size=\"3\" color=\"#000000\"> 3. Robust Z-score</font></div> \n",
    "<div align='left'><font size=\"3\" color=\"#000000\"> 4. I.Q.R method </font></div> \n",
    "<div align='left'><font size=\"3\" color=\"#000000\"> 5. Winsorization method(Percentile Capping) </font></div> \n",
    "<div align='left'><font size=\"3\" color=\"#000000\"> 6. DBSCAN Clustering</font></div> \n",
    "<div align='left'><font size=\"3\" color=\"#000000\"> 7. Isolation Forest </font></div> \n",
    "<div align='left'><font size=\"3\" color=\"#000000\"> 8. Visualizing the data</font></div> \n",
    "<hr>\n",
    "<div align='left'><font size=\"4\" color=\"#000000\"><h1 style=\"text-transform: uppercase\"><strong>1. Hypothesis Testing(grubbs test)</strong> </font></div>\n",
    "<hr>\n",
    "$$\n",
    "\\begin{array}{l}{\\text { Grubbs' test is defined for the hypothesis: }} \\\\ {\\begin{array}{ll}{\\text { Ho: }}  {\\text { There are no outliers in the data set }} \\\\ {\\mathrm{H}_{\\mathrm{1}} :}  {\\text { There is exactly one outlier in the data set }}\\end{array}}\\end{array}\n",
    "$$\n",
    "$$\n",
    "\\begin{array}{l}{\\text {The Grubbs' test statistic is defined as: }} \\\\ {\\qquad G_{calculated}=\\frac{\\max \\left|X_{i}-\\overline{X}\\right|}{SD}} \\\\ {\\text { with } \\overline{X} \\text { and } SD \\text { denoting the sample mean and standard deviation, respectively. }} \\end{array}\n",
    "$$\n",
    "$$\n",
    "G_{critical}=\\frac{(N-1)}{\\sqrt{N}} \\sqrt{\\frac{\\left(t_{\\alpha /(2 N), N-2}\\right)^{2}}{N-2+\\left(t_{\\alpha /(2 N), N-2}\\right)^{2}}}\n",
    "$$\n",
    "\n",
    "\\begin{array}{l}{\\text { If the calculated value is greater than critical, you can reject the null hypothesis and conclude that one of the values is an outlier }}\\end{array}"
   ]
  },
  {
   "cell_type": "code",
   "execution_count": 1,
   "metadata": {},
   "outputs": [
    {
     "name": "stdout",
     "output_type": "stream",
     "text": [
      "Grubbs Calculated Value: 1.4274928542926593\n",
      "Grubbs Critical Value: 1.887145117792422\n",
      "From grubbs_test we observe that calculated value is lesser than critical value, Accept null hypothesis and conclude that there is no outliers\n",
      "\n",
      "Grubbs Calculated Value: 2.2765147221587774\n",
      "Grubbs Critical Value: 2.019968507680656\n",
      "From grubbs_test we observe that calculated value is greater than critical value, Reject null hypothesis and conclude that there is an outliers\n",
      "\n"
     ]
    }
   ],
   "source": [
    "import numpy as np\n",
    "import scipy.stats as stats\n",
    "x = np.array([12,13,14,19,21,23])\n",
    "y = np.array([12,13,14,19,21,23,45])\n",
    "def grubbs_test(x):\n",
    "    n = len(x)\n",
    "    mean_x = np.mean(x)\n",
    "    sd_x = np.std(x)\n",
    "    numerator = max(abs(x-mean_x))\n",
    "    g_calculated = numerator/sd_x\n",
    "    print(\"Grubbs Calculated Value:\",g_calculated)\n",
    "    t_value = stats.t.ppf(1 - 0.05 / (2 * n), n - 2)\n",
    "    g_critical = ((n - 1) * np.sqrt(np.square(t_value))) / (np.sqrt(n) * np.sqrt(n - 2 + np.square(t_value)))\n",
    "    print(\"Grubbs Critical Value:\",g_critical)\n",
    "    if g_critical > g_calculated:\n",
    "        print(\"From grubbs_test we observe that calculated value is lesser than critical value, Accept null hypothesis and conclude that there is no outliers\\n\")\n",
    "    else:\n",
    "        print(\"From grubbs_test we observe that calculated value is greater than critical value, Reject null hypothesis and conclude that there is an outliers\\n\")\n",
    "grubbs_test(x)\n",
    "grubbs_test(y)"
   ]
  },
  {
   "cell_type": "markdown",
   "metadata": {},
   "source": [
    "<div align='left'><font size=\"4\" color=\"#000000\"><h1 style=\"text-transform: uppercase\"><strong>2. Z-score method</strong> </font></div>\n",
    "<hr>\n",
    "<div align='left'><font size=\"3\" color=\"#000000\"> Using Z score method,we can find out how many standard deviations value away from the mean. </font></div> \n",
    "<img style=\"float: center;\"  src=\"https://i.pinimg.com/originals/cd/14/73/cd1473c4c82980c6596ea9f535a7f41c.jpg\" width=\"350px\">\n",
    "<hr>\n",
    "<div align='left'><font size=\"3\" color=\"#000000\">  Figure in the left shows area under normal curve and how much area that standard deviation covers. </font></div> \n",
    "<div align='left'><font size=\"3\" color=\"#000000\"> * 68% of the data points lie between + or - 1 standard deviation.</font></div>\n",
    "<div align='left'><font size=\"3\" color=\"#000000\"> * 95% of the data points lie between + or - 2 standard deviation</font></div>\n",
    "<div align='left'><font size=\"3\" color=\"#000000\"> * 99.7% of the data points lie between + or - 3 standard deviation</font></div>\n",
    "<hr>\n",
    "<div align='left'><font size=\"3\" color=\"#000000\"> Z-score formula</font></div>\n",
    "\n",
    "\\begin{array}{l} {Z score=\\frac{ X - Mean}{Standard Deviation}}  \\end{array}\n",
    "<hr>\n",
    "<div align='left'><font size=\"3\" color=\"#000000\"> If the z score of a data point is more than 3 (because it cover 99.7% of area), it indicates that the data value is quite different from the other values. It is taken as outliers.</font></div>"
   ]
  },
  {
   "cell_type": "code",
   "execution_count": 3,
   "metadata": {},
   "outputs": [
    {
     "name": "stdout",
     "output_type": "stream",
     "text": [
      "Outliers: [50271, 159000, 215245, 164660, 53107, 70761, 53227, 46589, 115149, 53504, 45600, 63887, 57200]\n"
     ]
    }
   ],
   "source": [
    "import pandas as pd\n",
    "import numpy as np\n",
    "train = pd.read_csv('train.csv')\n",
    "out=[]\n",
    "def Zscore_outlier(df):\n",
    "    m = np.mean(df)\n",
    "    sd = np.std(df)\n",
    "    for i in df: \n",
    "        z = (i-m)/sd\n",
    "        if np.abs(z) > 3: \n",
    "            out.append(i)\n",
    "    print(\"Outliers:\",out)\n",
    "Zscore_outlier(train['LotArea'])"
   ]
  },
  {
   "cell_type": "markdown",
   "metadata": {},
   "source": [
    "<div align='left'><font size=\"4\" color=\"#000000\"><h1 style=\"text-transform: uppercase\"><strong>3. Robust Z-score</strong> </font></div>\n",
    "<hr>\n",
    "<div align='left'><font size=\"3\" color=\"#000000\"> It is also called as Median absolute deviation method. It is similar to Z-score method with some changes in parameters. Since mean and standard deviations are heavily influenced by outliers, alter to this parameters we use median and absolute deviation from median. </font></div> \n",
    "<hr>\n",
    "<div align='left'><font size=\"3\" color=\"#000000\"> Robust Z-score formula </font></div> \n",
    "<div align='left'><font size=\"3\" color=\"#000000\"> \\begin{array}{l} {R.Z.score=\\frac{0.6745*( X_{i} - Median)}{MAD}}  \\end{array} </font></div> \n",
    "<div align='center'><font size=\"2.5\" color=\"#000000\"> Where MAD = median(|X-median|)</font></div> \n",
    "<hr>\n",
    "<div align='left'><font size=\"3\" color=\"#000000\"> Suppose x follows a standard normal distribution. The MAD will converge to the median of the half normal distribution, which is the 75% percentile of a normal distribution, and  N(0.75)≃0.6745.</font></div>"
   ]
  },
  {
   "cell_type": "code",
   "execution_count": 5,
   "metadata": {},
   "outputs": [
    {
     "name": "stderr",
     "output_type": "stream",
     "text": [
      "<ipython-input-5-571159668e30>:7: DeprecationWarning: `median_absolute_deviation` is deprecated, use `median_abs_deviation` instead!\n",
      "\n",
      "To preserve the existing default behavior, use\n",
      "`scipy.stats.median_abs_deviation(..., scale=1/1.4826)`.\n",
      "The value 1.4826 is not numerically precise for scaling\n",
      "with a normal distribution. For a numerically precise value, use\n",
      "`scipy.stats.median_abs_deviation(..., scale='normal')`.\n",
      "\n",
      "  ma = stats.median_absolute_deviation(df)\n"
     ]
    },
    {
     "name": "stdout",
     "output_type": "stream",
     "text": [
      "Outliers: [50271, 31770, 22950, 25419, 159000, 39104, 215245, 164660, 53107, 34650, 70761, 53227, 40094, 32668, 25095, 46589, 26178, 115149, 53504, 28698, 45600, 25286, 27650, 24090, 25000, 29959, 23257, 35760, 35133, 32463, 24682, 23595, 36500, 63887, 25339, 57200, 26142]\n"
     ]
    }
   ],
   "source": [
    "import pandas as pd\n",
    "import numpy as np\n",
    "train = pd.read_csv('train.csv')\n",
    "out=[]\n",
    "def ZRscore_outlier(df):\n",
    "    med = np.median(df)\n",
    "    ma = stats.median_absolute_deviation(df)\n",
    "    for i in df: \n",
    "        z = (0.6745*(i-med))/ (np.median(ma))\n",
    "        if np.abs(z) > 3: \n",
    "            out.append(i)\n",
    "    print(\"Outliers:\",out)\n",
    "ZRscore_outlier(train['LotArea'])"
   ]
  },
  {
   "cell_type": "markdown",
   "metadata": {},
   "source": [
    "<div align='left'><font size=\"4\" color=\"#000000\"><h1 style=\"text-transform: uppercase\"><strong>4. IQR method</strong> </font></div>\n",
    "<hr>\n",
    "<div align='left'><font size=\"3\" color=\"#000000\">In this method by using Inter Quartile Range(IQR), we detect outliers. IQR tells us the variation in the data set.Any value, which is beyond the range of -1.5 x IQR to 1.5 x IQR treated as outliers </font></div> \n",
    "<hr>\n",
    "<img style=\"float: center;\"  src=\" https://miro.medium.com/max/18000/1*2c21SkzJMf3frPXPAR_gZA.png\" width=\"400px\">\n",
    "<hr> \n",
    "<div align='left'><font size=\"3\" color=\"#000000\">* Q1 represents the 1st quartile/25th percentile of the data.</font></div> \n",
    "<div align='left'><font size=\"3\" color=\"#000000\">* Q2 represents the 2nd quartile/median/50th percentile of the data.</font></div>\n",
    "<div align='left'><font size=\"3\" color=\"#000000\">* Q3 represents the 3rd quartile/75th percentile of the data. </font></div>\n",
    "<div align='left'><font size=\"3\" color=\"#000000\">* (Q1–1.5*IQR) represent the smallest value in the data set and (Q3+1.5*IQR)\n",
    "    represnt the largest value in the data set.</font></div>"
   ]
  },
  {
   "cell_type": "code",
   "execution_count": 6,
   "metadata": {},
   "outputs": [
    {
     "name": "stdout",
     "output_type": "stream",
     "text": [
      "Outliers: [50271, 19900, 21000, 21453, 19378, 31770, 22950, 25419, 159000, 19296, 39104, 19138, 18386, 215245, 164660, 20431, 18800, 53107, 34650, 22420, 21750, 70761, 53227, 40094, 32668, 21872, 21780, 25095, 46589, 20896, 18450, 21535, 26178, 115149, 21695, 53504, 21384, 28698, 45600, 17920, 25286, 27650, 24090, 25000, 1300, 21286, 1477, 21750, 29959, 18000, 23257, 17755, 35760, 18030, 35133, 32463, 18890, 24682, 23595, 17871, 36500, 63887, 20781, 25339, 57200, 20544, 19690, 21930, 26142]\n"
     ]
    }
   ],
   "source": [
    "import pandas as pd\n",
    "import numpy as np\n",
    "train = pd.read_csv('train.csv')\n",
    "out=[]\n",
    "def iqr_outliers(df):\n",
    "    q1 = df.quantile(0.25)\n",
    "    q3 = df.quantile(0.75)\n",
    "    iqr = q3-q1\n",
    "    Lower_tail = q1 - 1.5 * iqr\n",
    "    Upper_tail = q3 + 1.5 * iqr\n",
    "    for i in df:\n",
    "        if i > Upper_tail or i < Lower_tail:\n",
    "            out.append(i)\n",
    "    print(\"Outliers:\",out)\n",
    "iqr_outliers(train['LotArea'])"
   ]
  },
  {
   "cell_type": "markdown",
   "metadata": {},
   "source": [
    "<div align='left'><font size=\"4\" color=\"#000000\"><h1 style=\"text-transform: uppercase\"><strong>5. Winsorization Method(Percentile Capping)</strong> </font></div>\n",
    "<hr>\n",
    "<div align='left'><font size=\"3\" color=\"#000000\">This method is similar to IQR method. If a value exceeds the value of the 99th percentile and below the 1st percentile of given values are treated as outliers.</font></div> \n",
    "<hr>"
   ]
  },
  {
   "cell_type": "code",
   "execution_count": 9,
   "metadata": {},
   "outputs": [
    {
     "name": "stdout",
     "output_type": "stream",
     "text": [
      "Outliers: [1907, 2336, 2121, 1869, 2153, 1969, 2042, 2046, 1836, 1935, 1926, 1800, 1905, 1800, 2002]\n"
     ]
    }
   ],
   "source": [
    "import pandas as pd\n",
    "import numpy as np\n",
    "train = pd.read_csv('train.csv')\n",
    "out=[]\n",
    "def Winsorization_outliers(df):\n",
    "    q1 = np.percentile(df , 1)\n",
    "    q3 = np.percentile(df , 99)\n",
    "    for i in df:\n",
    "        if i > q3 or i < q1:\n",
    "            out.append(i)\n",
    "    print(\"Outliers:\",out)\n",
    "Winsorization_outliers(train['BsmtUnfSF'])"
   ]
  },
  {
   "cell_type": "markdown",
   "metadata": {},
   "source": [
    "<div align='left'><font size=\"4\" color=\"#000000\"><h1 style=\"text-transform: uppercase\"><strong>6. DBSCAN (Density-Based Spatial Clustering of Applications with Noise)</strong> </font></div>\n",
    "<hr>\n",
    "<div align='left'><font size=\"3\" color=\"#000000\">DBSCAN is a density based clustering algorithm that divides a dataset into subgroups of high density regions and identifies high density regions cluster as outliers. Here cluster -1 indicates that the cluster contains outlier and rest of clusters have no outliers. This approch is similar to the K-mean clustering. There are two parameters required for DBSCAN. DBSCAN give best result for multivariate outlier detection.</font></div> \n",
    "<hr>\n",
    "<div align='left'><font size=\"3\" color=\"#000000\">1. epsilon:  a distance parameter that defines the radius to search for nearby neighbors.</font></div> \n",
    "<div align='left'><font size=\"3\" color=\"#000000\">2. minimum amount of points required to form a cluster.</font></div> \n",
    "<img style=\"float: center;\"  src=\"https://qphs.fs.quoracdn.net/main-qimg-384458d7ab61f88e443b5e99bcd06622\" width=\"350px\">\n",
    "<hr> \n",
    "<div align='left'><font size=\"3\" color=\"#000000\">Using epsilon and minPts, we can classify each data point as:</font></div> \n",
    " <hr>    \n",
    "<div align='left'><font size=\"3\" color=\"#000000\">Core point –> a point that has at least a minimum number of other points (minPts) within its radius.\n",
    "</font></div> \n",
    "<div align='left'><font size=\"3\" color=\"#000000\">Border point –> a point is within the  radius of a core point but has less than the minimum number of other points (minPts) within its own radius.</font></div>\n",
    "<div align='left'><font size=\"3\" color=\"#000000\">Noise point –> a point that is neither a core point or a border point </font></div>"
   ]
  },
  {
   "cell_type": "code",
   "execution_count": 10,
   "metadata": {},
   "outputs": [
    {
     "name": "stdout",
     "output_type": "stream",
     "text": [
      "-1     265\n",
      " 12    118\n",
      " 2      68\n",
      " 39     48\n",
      " 9      44\n",
      "      ... \n",
      " 41      5\n",
      " 73      5\n",
      " 69      5\n",
      " 67      5\n",
      " 64      4\n",
      "Name: cluster, Length: 75, dtype: int64\n"
     ]
    }
   ],
   "source": [
    "import pandas as pd\n",
    "from sklearn.cluster import DBSCAN\n",
    "train = pd.read_csv('train.csv')\n",
    "def DB_outliers(df):\n",
    "    outlier_detection = DBSCAN(eps = 2, metric='euclidean', min_samples = 5)\n",
    "    clusters = outlier_detection.fit_predict(df.values.reshape(-1,1))\n",
    "    data = pd.DataFrame()\n",
    "    data['cluster'] = clusters\n",
    "    print(data['cluster'].value_counts().sort_values(ascending=False))\n",
    "DB_outliers(train['BsmtUnfSF'])"
   ]
  },
  {
   "cell_type": "markdown",
   "metadata": {},
   "source": [
    "<div align='left'><font size=\"4\" color=\"#000000\"><h1 style=\"text-transform: uppercase\"><strong>7. Isolation Forest</strong> </font></div>\n",
    "<hr>\n",
    "<div align='left'><font size=\"3\" color=\"#000000\">It is an clustering algorithm that belongs to the ensemble decision trees family and is similar in principle to Random Forest. </font></div> \n",
    "<hr>\n",
    "<img style=\"float: center;\"  src=\"https://miro.medium.com/max/875/0*0GuMixLdSZo3V3Nh.\" width=\"450px\">\n",
    "<hr>       \n",
    "<div align='left'><font size=\"3\" color=\"#000000\">1. It classify the data point to outlier and not outliers and works great with very high dimensional data.</font></div>  <hr>     \n",
    "<div align='left'><font size=\"3\" color=\"#000000\">2. It works based on decision tree and it isolate the outliers.</font></div>  <hr>     \n",
    "<div align='left'><font size=\"3\" color=\"#000000\">3. If the result is -1, it means that this specific data point is an outlier. If the result is 1, then it means that the data point is not an outlier. </font></div>"
   ]
  },
  {
   "cell_type": "code",
   "execution_count": 13,
   "metadata": {},
   "outputs": [
    {
     "ename": "AttributeError",
     "evalue": "'DataFrame' object has no attribute 'Pclass'",
     "output_type": "error",
     "traceback": [
      "\u001b[1;31m---------------------------------------------------------------------------\u001b[0m",
      "\u001b[1;31mAttributeError\u001b[0m                            Traceback (most recent call last)",
      "\u001b[1;32m<ipython-input-13-73e3622a0610>\u001b[0m in \u001b[0;36m<module>\u001b[1;34m\u001b[0m\n\u001b[0;32m      3\u001b[0m \u001b[1;32mimport\u001b[0m \u001b[0mpandas\u001b[0m \u001b[1;32mas\u001b[0m \u001b[0mpd\u001b[0m\u001b[1;33m\u001b[0m\u001b[1;33m\u001b[0m\u001b[0m\n\u001b[0;32m      4\u001b[0m \u001b[0mtrain\u001b[0m \u001b[1;33m=\u001b[0m \u001b[0mpd\u001b[0m\u001b[1;33m.\u001b[0m\u001b[0mread_csv\u001b[0m\u001b[1;33m(\u001b[0m\u001b[1;34m'train.csv'\u001b[0m\u001b[1;33m)\u001b[0m\u001b[1;33m\u001b[0m\u001b[1;33m\u001b[0m\u001b[0m\n\u001b[1;32m----> 5\u001b[1;33m \u001b[0mtrain\u001b[0m\u001b[1;33m[\u001b[0m\u001b[1;34m'BsmtUnfSF'\u001b[0m\u001b[1;33m]\u001b[0m\u001b[1;33m.\u001b[0m\u001b[0mfillna\u001b[0m\u001b[1;33m(\u001b[0m\u001b[0mtrain\u001b[0m\u001b[1;33m[\u001b[0m\u001b[0mtrain\u001b[0m\u001b[1;33m.\u001b[0m\u001b[0mPclass\u001b[0m\u001b[1;33m==\u001b[0m\u001b[1;36m3\u001b[0m\u001b[1;33m]\u001b[0m\u001b[1;33m[\u001b[0m\u001b[1;34m'BsmtUnfSF'\u001b[0m\u001b[1;33m]\u001b[0m\u001b[1;33m.\u001b[0m\u001b[0mmedian\u001b[0m\u001b[1;33m(\u001b[0m\u001b[1;33m)\u001b[0m\u001b[1;33m,\u001b[0m\u001b[0minplace\u001b[0m\u001b[1;33m=\u001b[0m\u001b[1;32mTrue\u001b[0m\u001b[1;33m)\u001b[0m\u001b[1;33m\u001b[0m\u001b[1;33m\u001b[0m\u001b[0m\n\u001b[0m\u001b[0;32m      6\u001b[0m \u001b[1;32mdef\u001b[0m \u001b[0mIso_outliers\u001b[0m\u001b[1;33m(\u001b[0m\u001b[0mdf\u001b[0m\u001b[1;33m)\u001b[0m\u001b[1;33m:\u001b[0m\u001b[1;33m\u001b[0m\u001b[1;33m\u001b[0m\u001b[0m\n\u001b[0;32m      7\u001b[0m     \u001b[0miso\u001b[0m \u001b[1;33m=\u001b[0m \u001b[0mIsolationForest\u001b[0m\u001b[1;33m(\u001b[0m \u001b[0mbehaviour\u001b[0m \u001b[1;33m=\u001b[0m \u001b[1;34m'new'\u001b[0m\u001b[1;33m,\u001b[0m \u001b[0mrandom_state\u001b[0m \u001b[1;33m=\u001b[0m \u001b[1;36m1\u001b[0m\u001b[1;33m,\u001b[0m \u001b[0mcontamination\u001b[0m\u001b[1;33m=\u001b[0m \u001b[1;34m'auto'\u001b[0m\u001b[1;33m)\u001b[0m\u001b[1;33m\u001b[0m\u001b[1;33m\u001b[0m\u001b[0m\n",
      "\u001b[1;32m~\\anaconda3\\lib\\site-packages\\pandas\\core\\generic.py\u001b[0m in \u001b[0;36m__getattr__\u001b[1;34m(self, name)\u001b[0m\n\u001b[0;32m   5137\u001b[0m             \u001b[1;32mif\u001b[0m \u001b[0mself\u001b[0m\u001b[1;33m.\u001b[0m\u001b[0m_info_axis\u001b[0m\u001b[1;33m.\u001b[0m\u001b[0m_can_hold_identifiers_and_holds_name\u001b[0m\u001b[1;33m(\u001b[0m\u001b[0mname\u001b[0m\u001b[1;33m)\u001b[0m\u001b[1;33m:\u001b[0m\u001b[1;33m\u001b[0m\u001b[1;33m\u001b[0m\u001b[0m\n\u001b[0;32m   5138\u001b[0m                 \u001b[1;32mreturn\u001b[0m \u001b[0mself\u001b[0m\u001b[1;33m[\u001b[0m\u001b[0mname\u001b[0m\u001b[1;33m]\u001b[0m\u001b[1;33m\u001b[0m\u001b[1;33m\u001b[0m\u001b[0m\n\u001b[1;32m-> 5139\u001b[1;33m             \u001b[1;32mreturn\u001b[0m \u001b[0mobject\u001b[0m\u001b[1;33m.\u001b[0m\u001b[0m__getattribute__\u001b[0m\u001b[1;33m(\u001b[0m\u001b[0mself\u001b[0m\u001b[1;33m,\u001b[0m \u001b[0mname\u001b[0m\u001b[1;33m)\u001b[0m\u001b[1;33m\u001b[0m\u001b[1;33m\u001b[0m\u001b[0m\n\u001b[0m\u001b[0;32m   5140\u001b[0m \u001b[1;33m\u001b[0m\u001b[0m\n\u001b[0;32m   5141\u001b[0m     \u001b[1;32mdef\u001b[0m \u001b[0m__setattr__\u001b[0m\u001b[1;33m(\u001b[0m\u001b[0mself\u001b[0m\u001b[1;33m,\u001b[0m \u001b[0mname\u001b[0m\u001b[1;33m:\u001b[0m \u001b[0mstr\u001b[0m\u001b[1;33m,\u001b[0m \u001b[0mvalue\u001b[0m\u001b[1;33m)\u001b[0m \u001b[1;33m->\u001b[0m \u001b[1;32mNone\u001b[0m\u001b[1;33m:\u001b[0m\u001b[1;33m\u001b[0m\u001b[1;33m\u001b[0m\u001b[0m\n",
      "\u001b[1;31mAttributeError\u001b[0m: 'DataFrame' object has no attribute 'Pclass'"
     ]
    }
   ],
   "source": [
    "from sklearn.ensemble import IsolationForest\n",
    "import numpy as np\n",
    "import pandas as pd\n",
    "train = pd.read_csv('train.csv')\n",
    "train['BsmtUnfSF'].fillna(train[train.Pclass==3]['BsmtUnfSF'].median(),inplace=True)\n",
    "def Iso_outliers(df):\n",
    "    iso = IsolationForest( behaviour = 'new', random_state = 1, contamination= 'auto')\n",
    "    preds = iso.fit_predict(df.values.reshape(-1,1))\n",
    "    data = pd.DataFrame()\n",
    "    data['cluster'] = preds\n",
    "    print(data['cluster'].value_counts().sort_values(ascending=False))\n",
    "Iso_outliers(train['BsmtUnfSF'])"
   ]
  },
  {
   "cell_type": "markdown",
   "metadata": {},
   "source": [
    "<div align='left'><font size=\"4\" color=\"#000000\"><h1 style=\"text-transform: uppercase\"><strong>8. Visualizing the data</strong> </font></div>\n",
    "<hr>\n",
    "<div align='left'><font size=\"3\" color=\"#000000\">Data visualization is useful for data cleaning, exploring data, detecting outliers and unusual groups, identifying trends and clusters etc. Here the list of data visualization plots to spot the outliers. </font></div> \n",
    "<hr>      \n",
    "<div align='left'><font size=\"3\" color=\"#000000\">1. Box and whisker plot (box plot).</font></div>     \n",
    "<div align='left'><font size=\"3\" color=\"#000000\">2. Scatter plot.</font></div>     \n",
    "<div align='left'><font size=\"3\" color=\"#000000\">3. Histogram. </font></div> \n",
    "<div align='left'><font size=\"3\" color=\"#000000\">4. Distribution Plot.</font></div>     \n",
    "<div align='left'><font size=\"3\" color=\"#000000\">5. QQ plot. </font></div>"
   ]
  },
  {
   "cell_type": "code",
   "execution_count": 17,
   "metadata": {},
   "outputs": [
    {
     "name": "stderr",
     "output_type": "stream",
     "text": [
      "C:\\Users\\Dell\\anaconda3\\lib\\site-packages\\seaborn\\_decorators.py:36: FutureWarning: Pass the following variable as a keyword arg: x. From version 0.12, the only valid positional argument will be `data`, and passing other arguments without an explicit keyword will result in an error or misinterpretation.\n",
      "  warnings.warn(\n"
     ]
    },
    {
     "data": {
      "image/png": "[encoded data removed]",
      "text/plain": [
       "<Figure size 720x288 with 1 Axes>"
      ]
     },
     "metadata": {
      "needs_background": "light"
     },
     "output_type": "display_data"
    },
    {
     "data": {
      "image/png": "[encoded data removed]",
      "text/plain": [
       "<Figure size 720x288 with 1 Axes>"
      ]
     },
     "metadata": {
      "needs_background": "light"
     },
     "output_type": "display_data"
    },
    {
     "data": {
      "image/png": "[encoded data removed]",
      "text/plain": [
       "<Figure size 720x288 with 1 Axes>"
      ]
     },
     "metadata": {
      "needs_background": "light"
     },
     "output_type": "display_data"
    },
    {
     "name": "stderr",
     "output_type": "stream",
     "text": [
      "C:\\Users\\Dell\\anaconda3\\lib\\site-packages\\seaborn\\distributions.py:2551: FutureWarning: `distplot` is a deprecated function and will be removed in a future version. Please adapt your code to use either `displot` (a figure-level function with similar flexibility) or `histplot` (an axes-level function for histograms).\n",
      "  warnings.warn(msg, FutureWarning)\n"
     ]
    },
    {
     "data": {
      "image/png": "[encoded data removed]",
      "text/plain": [
       "<Figure size 720x288 with 1 Axes>"
      ]
     },
     "metadata": {
      "needs_background": "light"
     },
     "output_type": "display_data"
    },
    {
     "data": {
      "text/plain": [
       "<Figure size 720x288 with 0 Axes>"
      ]
     },
     "metadata": {},
     "output_type": "display_data"
    },
    {
     "data": {
      "image/png": "[encoded data removed]",
      "text/plain": [
       "<Figure size 432x288 with 1 Axes>"
      ]
     },
     "metadata": {
      "needs_background": "light"
     },
     "output_type": "display_data"
    }
   ],
   "source": [
    "import pandas as pd\n",
    "import seaborn as sns\n",
    "from matplotlib import pyplot as plt\n",
    "from statsmodels.graphics.gofplots import qqplot\n",
    "train = pd.read_csv('train.csv')\n",
    "def Box_plots(df):\n",
    "    plt.figure(figsize=(10, 4))\n",
    "    plt.title(\"Box Plot\")\n",
    "    sns.boxplot(df)\n",
    "    plt.show()\n",
    "Box_plots(train['LotArea'])\n",
    "\n",
    "def hist_plots(df):\n",
    "    plt.figure(figsize=(10, 4))\n",
    "    plt.hist(df)\n",
    "    plt.title(\"Histogram Plot\")\n",
    "    plt.show()\n",
    "hist_plots(train['LotArea'])\n",
    "\n",
    "def scatter_plots(df1,df2):\n",
    "    fig, ax = plt.subplots(figsize=(10,4))\n",
    "    ax.scatter(df1,df2)\n",
    "    ax.set_xlabel('LotArea')\n",
    "    ax.set_ylabel('BsmtUnfSF')\n",
    "    plt.title(\"Scatter Plot\")\n",
    "    plt.show()\n",
    "scatter_plots(train['LotArea'],train['BsmtUnfSF'])\n",
    "\n",
    "def dist_plots(df):\n",
    "    plt.figure(figsize=(10, 4))\n",
    "    sns.distplot(df)\n",
    "    plt.title(\"Distribution plot\")\n",
    "    sns.despine()\n",
    "    plt.show()\n",
    "dist_plots(train['BsmtUnfSF'])\n",
    "\n",
    "def qq_plots(df):\n",
    "    plt.figure(figsize=(10, 4))\n",
    "    qqplot(df,line='s')\n",
    "    plt.title(\"Normal QQPlot\")\n",
    "    plt.show()\n",
    "qq_plots(train['BsmtUnfSF'])"
   ]
  },
  {
   "cell_type": "markdown",
   "metadata": {},
   "source": [
    "<div align='left'><font size=\"4\" color=\"#000000\"><h1 style=\"text-transform: uppercase\"><strong>What Next??</strong> </font></div>\n",
    "<hr>\n",
    "<div align='left'><font size=\"3\" color=\"#000000\">After detecting the outlier we should remove\\treat the outlier because <strong>it is a silent killer!!</strong> yes. </font></div> \n",
    "<hr>      \n",
    "<div align='left'><font size=\"3\" color=\"#000000\">* Outliers badly affect mean and standard deviation of the dataset. These may statistically give erroneous results.</font></div>     \n",
    "<div align='left'><font size=\"3\" color=\"#000000\">* It increases the error variance and reduces the power of statistical tests.</font></div>     \n",
    "<div align='left'><font size=\"3\" color=\"#000000\">* If the outliers are non-randomly distributed, they can decrease normality.</font></div> \n",
    "<div align='left'><font size=\"3\" color=\"#000000\">* Most machine learning algorithms do not work well in the presence of outlier. So it is desirable to detect and remove outliers.</font></div>     \n",
    "<div align='left'><font size=\"3\" color=\"#000000\">* They can also impact the basic assumption of Regression, ANOVA and other statistical model assumptions.</font></div> \n",
    "<hr>  \n",
    "<div align='left'><font size=\"3\" color=\"#000000\">With all these reasons we must be careful about outlier and treat them before build a statistical/machine learning model. There are some techniques used to deal with outliers.</font></div> \n",
    "<hr>  \n",
    "<div align='left'><font size=\"3\" color=\"#000000\">1. Deleting observations.</font></div>     \n",
    "<div align='left'><font size=\"3\" color=\"#000000\">2. Transforming values.</font></div> \n",
    "<div align='left'><font size=\"3\" color=\"#000000\">3. Imputation.</font></div>  \n",
    "<div align='left'><font size=\"3\" color=\"#000000\">4. Separately treating</font></div> \n",
    "<hr>\n",
    "<div align='left'><font size=\"4\" color=\"#000000\"><h1 style=\"text-transform: uppercase\"><strong>Deleting observations:</strong> </font></div> \n",
    "<div align='left'><font size=\"3\" color=\"#000000\">We delete outlier values if it is due to data entry error, data processing error or outlier observations are very small in numbers. We can also use trimming at both ends to remove outliers. But deleting the observation is not a good idea when we have small dataset.</font></div>"
   ]
  },
  {
   "cell_type": "code",
   "execution_count": null,
   "metadata": {},
   "outputs": [],
   "source": [
    "import pandas as pd\n",
    "import numpy as np\n",
    "import seaborn as sns\n",
    "from matplotlib import pyplot as plt\n",
    "train = pd.read_csv('../input/cost-of-living/cost-of-living-2018.csv')\n",
    "sns.boxplot(train['Cost of Living Index'])\n",
    "plt.title(\"Box Plot before outlier removing\")\n",
    "plt.show()\n",
    "def drop_outliers(df, field_name):\n",
    "    iqr = 1.5 * (np.percentile(df[field_name], 75) - np.percentile(df[field_name], 25))\n",
    "    df.drop(df[df[field_name] > (iqr + np.percentile(df[field_name], 75))].index, inplace=True)\n",
    "    df.drop(df[df[field_name] < (np.percentile(df[field_name], 25) - iqr)].index, inplace=True)\n",
    "drop_outliers(train, 'Cost of Living Index')\n",
    "sns.boxplot(train['Cost of Living Index'])\n",
    "plt.title(\"Box Plot after outlier removing\")\n",
    "plt.show()"
   ]
  },
  {
   "cell_type": "markdown",
   "metadata": {},
   "source": [
    "<div align='left'><font size=\"4\" color=\"#000000\"><h1 style=\"text-transform: uppercase\"><strong>Transforming values:</strong> </font></div>\n",
    "<hr>\n",
    "<div align='left'><font size=\"3\" color=\"#000000\">Transforming variables can also eliminate outliers. These transformed values reduces the variation caused by extreme values.</font></div> \n",
    "<hr>   \n",
    " \n",
    "<div align='left'><font size=\"3\" color=\"#000000\">1. Scalling</font></div>     \n",
    "<div align='left'><font size=\"3\" color=\"#000000\">2. Log transformation</font></div> \n",
    "<div align='left'><font size=\"3\" color=\"#000000\">3. Cube Root Normalization</font></div>  \n",
    "<div align='left'><font size=\"3\" color=\"#000000\">4. Box-Cox transformation</font></div> \n",
    "<hr>\n",
    "    \n",
    "<div align='left'><font size=\"3\" color=\"#000000\">* These techniques convert values in the dataset to smaller values.</font></div>     \n",
    "<div align='left'><font size=\"3\" color=\"#000000\">* If the data has to many extreme values or skewed, this method helps to make your data normal.</font></div>     \n",
    "<div align='left'><font size=\"3\" color=\"#000000\">* But These technique not always give you the best results. </font></div> \n",
    "<div align='left'><font size=\"3\" color=\"#000000\">* There is no lose of data from these methods.</font></div>     \n",
    "<div align='left'><font size=\"3\" color=\"#000000\">* In all these method boxcox transformation gives the best result.</font></div> \n",
    "<hr>"
   ]
  },
  {
   "cell_type": "code",
   "execution_count": null,
   "metadata": {},
   "outputs": [],
   "source": [
    "#Scalling\n",
    "import pandas as pd\n",
    "import numpy as np\n",
    "import seaborn as sns\n",
    "from matplotlib import pyplot as plt\n",
    "from sklearn import preprocessing\n",
    "train = pd.read_csv('../input/cost-of-living/cost-of-living-2018.csv')\n",
    "plt.hist(train['Cost of Living Index'])\n",
    "plt.title(\"Histogram before Scalling\")\n",
    "plt.show()\n",
    "scaler = preprocessing.StandardScaler()\n",
    "train['Cost of Living Index'] = scaler.fit_transform(train['Cost of Living Index'].values.reshape(-1,1))\n",
    "plt.hist(train['Cost of Living Index'])\n",
    "plt.title(\"Histogram after Scalling\")\n",
    "plt.show()"
   ]
  },
  {
   "cell_type": "code",
   "execution_count": null,
   "metadata": {},
   "outputs": [],
   "source": [
    "#Log Transformation\n",
    "import pandas as pd\n",
    "import numpy as np\n",
    "import seaborn as sns\n",
    "from matplotlib import pyplot as plt\n",
    "train = pd.read_csv('../input/cost-of-living/cost-of-living-2018.csv')\n",
    "sns.distplot(train['Cost of Living Index'])\n",
    "plt.title(\"Distribution plot before Log transformation\")\n",
    "sns.despine()\n",
    "plt.show()\n",
    "train['Cost of Living Index'] = np.log(train['Cost of Living Index'])\n",
    "sns.distplot(train['Cost of Living Index'])\n",
    "plt.title(\"Distribution plot after Log transformation\")\n",
    "sns.despine()\n",
    "plt.show()"
   ]
  },
  {
   "cell_type": "code",
   "execution_count": null,
   "metadata": {},
   "outputs": [],
   "source": [
    "#cube root Transformation\n",
    "import pandas as pd\n",
    "import numpy as np\n",
    "import seaborn as sns\n",
    "from matplotlib import pyplot as plt\n",
    "train = pd.read_csv('../input/titanic/train.csv')\n",
    "plt.hist(train['Age'])\n",
    "plt.title(\"Histogram before cube root Transformation\")\n",
    "plt.show()\n",
    "train['Age'] = (train['Age']**(1/3))\n",
    "plt.hist(train['Age'])\n",
    "plt.title(\"Histogram after cube root Transformation\")\n",
    "plt.show()"
   ]
  },
  {
   "cell_type": "code",
   "execution_count": null,
   "metadata": {},
   "outputs": [],
   "source": [
    "#Box-transformation\n",
    "import pandas as pd\n",
    "import numpy as np\n",
    "import seaborn as sns\n",
    "from matplotlib import pyplot as plt\n",
    "import scipy\n",
    "train = pd.read_csv('../input/cost-of-living/cost-of-living-2018.csv')\n",
    "sns.boxplot(train['Rent Index'])\n",
    "plt.title(\"Box Plot before outlier removing\")\n",
    "plt.show()\n",
    "train['Rent Index'],fitted_lambda= scipy.stats.boxcox(train['Rent Index'] ,lmbda=None)\n",
    "sns.boxplot(train['Rent Index'])\n",
    "plt.title(\"Box Plot after outlier removing\")\n",
    "plt.show()"
   ]
  },
  {
   "cell_type": "markdown",
   "metadata": {},
   "source": [
    "<div align='left'><font size=\"4\" color=\"#000000\"><h1 style=\"text-transform: uppercase\"><strong>Imputation</strong> </font></div>\n",
    "<hr>\n",
    "<div align='left'><font size=\"3\" color=\"#000000\">Like imputation of missing values, we can also impute outliers. We can use mean, median, zero value in this methods. Since we imputing there is no loss of data. Here median is appropriate because it is not affected by outliers.</font></div>"
   ]
  },
  {
   "cell_type": "code",
   "execution_count": null,
   "metadata": {},
   "outputs": [],
   "source": [
    "#mean imputation\n",
    "import pandas as pd\n",
    "import numpy as np\n",
    "train = pd.read_csv('../input/titanic/train.csv')\n",
    "sns.boxplot(train['Age'])\n",
    "plt.title(\"Box Plot before mean imputation\")\n",
    "plt.show()\n",
    "q1 = train['Age'].quantile(0.25)\n",
    "q3 = train['Age'].quantile(0.75)\n",
    "iqr = q3-q1\n",
    "Lower_tail = q1 - 1.5 * iqr\n",
    "Upper_tail = q3 + 1.5 * iqr\n",
    "m = np.mean(train['Age'])\n",
    "for i in train['Age']:\n",
    "    if i > Upper_tail or i < Lower_tail:\n",
    "            train['Age'] = train['Age'].replace(i, m)\n",
    "sns.boxplot(train['Age'])\n",
    "plt.title(\"Box Plot after mean imputation\")\n",
    "plt.show()"
   ]
  },
  {
   "cell_type": "code",
   "execution_count": null,
   "metadata": {},
   "outputs": [],
   "source": [
    "#median imputation\n",
    "import pandas as pd\n",
    "import numpy as np\n",
    "train = pd.read_csv('../input/titanic/train.csv')\n",
    "sns.boxplot(train['Age'])\n",
    "plt.title(\"Box Plot before median imputation\")\n",
    "plt.show()\n",
    "q1 = train['Age'].quantile(0.25)\n",
    "q3 = train['Age'].quantile(0.75)\n",
    "iqr = q3-q1\n",
    "Lower_tail = q1 - 1.5 * iqr\n",
    "Upper_tail = q3 + 1.5 * iqr\n",
    "med = np.median(train['Age'])\n",
    "for i in train['Age']:\n",
    "    if i > Upper_tail or i < Lower_tail:\n",
    "            train['Age'] = train['Age'].replace(i, med)\n",
    "sns.boxplot(train['Age'])\n",
    "plt.title(\"Box Plot after median imputation\")\n",
    "plt.show()"
   ]
  },
  {
   "cell_type": "code",
   "execution_count": null,
   "metadata": {},
   "outputs": [],
   "source": []
  },
  {
   "cell_type": "code",
   "execution_count": null,
   "metadata": {},
   "outputs": [],
   "source": []
  }
 ],
 "metadata": {
  "kernelspec": {
   "display_name": "Python 3",
   "language": "python",
   "name": "python3"
  },
  "language_info": {
   "codemirror_mode": {
    "name": "ipython",
    "version": 3
   },
   "file_extension": ".py",
   "mimetype": "text/x-python",
   "name": "python",
   "nbconvert_exporter": "python",
   "pygments_lexer": "ipython3",
   "version": "3.8.5"
  }
 },
 "nbformat": 4,
 "nbformat_minor": 4
}
